{
  "cells": [
    {
      "cell_type": "markdown",
      "metadata": {
        "id": "RfI_0oGd_aIc"
      },
      "source": [
        "\n",
        "\"O Jogo\"  CODIGO novo\n",
        "\n"
      ]
    },
    {
      "cell_type": "code",
      "source": [
        "from random import randint\n",
        "\n",
        "ranking = {}\n",
        "\n",
        "while True:\n",
        "    print(\"Opção 0 = Fechar Programa \\nOpção 1 = SINGLEPLAYER \\nOpção 2 = MULTIPLAYER \\nOpção 3 = Rancking \")\n",
        "\n",
        "    opcao = int(input(\"Insira a opção desejada: \"))\n",
        "\n",
        "    if opcao == 0:\n",
        "        print(\"Fechando o programa... 🖕\")\n",
        "        break\n",
        "    elif opcao == 1:\n",
        "        print(\"SINGLEPLAYER 👤\")\n",
        "        jogador = input(\"Digite o seu nome: \")\n",
        "        perg = int(input(\"Escolha entre 1 para pedra, 2 para papel e 3 para tesoura: \"))\n",
        "        numsort = randint(1, 3)\n",
        "\n",
        "        if jogador not in ranking:\n",
        "            ranking[jogador] = 0\n",
        "\n",
        "        if perg == numsort:\n",
        "            print(\"Empate\")\n",
        "        elif (perg == 2 and numsort == 1) or (perg == 3 and numsort == 2) or (perg == 1 and numsort == 3):\n",
        "            print(\"Você ganhou\")\n",
        "            ranking[jogador] += 1\n",
        "        else:\n",
        "            print(\"Você perdeu\")\n",
        "    elif opcao == 2:\n",
        "        print(\"MULTIPLAYER 👥\")\n",
        "        jogador1 = input(\"Digite o nome do Jogador 1: \")\n",
        "        jogador2 = input(\"Digite o nome do Jogador 2: \")\n",
        "        perg1 = int(input(f\"{jogador1}, escolha entre 1 para pedra, 2 para papel e 3 para tesoura: \"))\n",
        "        perg2 = int(input(f\"{jogador2}, escolha entre 1 para pedra, 2 para papel e 3 para tesoura: \"))\n",
        "\n",
        "        if jogador1 not in ranking:\n",
        "            ranking[jogador1] = 0\n",
        "        if jogador2 not in ranking:\n",
        "            ranking[jogador2] = 0\n",
        "\n",
        "        if perg1 == perg2:\n",
        "            print(\"Empate\")\n",
        "        elif (perg1 == 2 and perg2 == 1) or (perg1 == 3 and perg2 == 2) or (perg1 == 1 and perg2 == 3):\n",
        "            print(f\"{jogador1} ganhou\")\n",
        "            ranking[jogador1] += 1\n",
        "        else:\n",
        "            print(f\"{jogador2} ganhou\")\n",
        "            ranking[jogador2] += 1\n",
        "    elif opcao == 3:\n",
        "        print(\"Rancking:\")\n",
        "        for jogador, pontuacao in ranking.items():\n",
        "            print(f\"{jogador}: {pontuacao} pontos\")\n",
        "    else:\n",
        "        print(\"Opção inválida✖️\")\n",
        "\n"
      ],
      "metadata": {
        "colab": {
          "base_uri": "https://localhost:8080/"
        },
        "id": "J1YkBPqoxDdg",
        "outputId": "28bedc8f-b264-4ae8-9596-62e218b7e29e"
      },
      "execution_count": null,
      "outputs": [
        {
          "name": "stdout",
          "output_type": "stream",
          "text": [
            "Opção 0 = Fechar Programa \n",
            "Opção 1 = SINGLEPLAYER \n",
            "Opção 2 = MULTIPLAYER \n",
            "Opção 3 = Rancking \n",
            "Insira a opção desejada: 1\n",
            "SINGLEPLAYER 👤\n",
            "Digite o seu nome: pogo\n",
            "Escolha entre 1 para pedra, 2 para papel e 3 para tesoura: 2\n",
            "Você perdeu\n",
            "Opção 0 = Fechar Programa \n",
            "Opção 1 = SINGLEPLAYER \n",
            "Opção 2 = MULTIPLAYER \n",
            "Opção 3 = Rancking \n",
            "Insira a opção desejada: 1\n",
            "SINGLEPLAYER 👤\n",
            "Digite o seu nome: pogo\n",
            "Escolha entre 1 para pedra, 2 para papel e 3 para tesoura: 1\n",
            "Você perdeu\n",
            "Opção 0 = Fechar Programa \n",
            "Opção 1 = SINGLEPLAYER \n",
            "Opção 2 = MULTIPLAYER \n",
            "Opção 3 = Rancking \n",
            "Insira a opção desejada: 1\n",
            "SINGLEPLAYER 👤\n",
            "Digite o seu nome: pogo\n",
            "Escolha entre 1 para pedra, 2 para papel e 3 para tesoura: 2\n",
            "Você ganhou\n",
            "Opção 0 = Fechar Programa \n",
            "Opção 1 = SINGLEPLAYER \n",
            "Opção 2 = MULTIPLAYER \n",
            "Opção 3 = Rancking \n",
            "Insira a opção desejada: 3\n",
            "Rancking:\n",
            "pogo: 1 pontos\n",
            "Opção 0 = Fechar Programa \n",
            "Opção 1 = SINGLEPLAYER \n",
            "Opção 2 = MULTIPLAYER \n",
            "Opção 3 = Rancking \n",
            "Insira a opção desejada: 2\n",
            "MULTIPLAYER 👥\n",
            "Digite o nome do Jogador 1: pogo\n",
            "Digite o nome do Jogador 2: dani\n",
            "pogo, escolha entre 1 para pedra, 2 para papel e 3 para tesoura: 1\n",
            "dani, escolha entre 1 para pedra, 2 para papel e 3 para tesoura: 2\n",
            "dani ganhou\n",
            "Opção 0 = Fechar Programa \n",
            "Opção 1 = SINGLEPLAYER \n",
            "Opção 2 = MULTIPLAYER \n",
            "Opção 3 = Rancking \n",
            "Insira a opção desejada: 2\n",
            "MULTIPLAYER 👥\n",
            "Digite o nome do Jogador 1: pogo\n"
          ]
        }
      ]
    }
  ],
  "metadata": {
    "colab": {
      "provenance": []
    },
    "kernelspec": {
      "display_name": "Python 3",
      "name": "python3"
    },
    "language_info": {
      "name": "python"
    }
  },
  "nbformat": 4,
  "nbformat_minor": 0
}